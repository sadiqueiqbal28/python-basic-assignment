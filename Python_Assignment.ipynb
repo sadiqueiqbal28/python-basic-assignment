{
  "nbformat": 4,
  "nbformat_minor": 0,
  "metadata": {
    "colab": {
      "provenance": []
    },
    "kernelspec": {
      "name": "python3",
      "display_name": "Python 3"
    },
    "language_info": {
      "name": "python"
    }
  },
  "cells": [
    {
      "cell_type": "markdown",
      "source": [
        "1. Explain the key features of Python that make it a popular choice for programming.\n",
        "    \n",
        "    -> Python has many key features which makes it popular programming language, These are:\n",
        "      - **Ample amount of libraries**: Python has nearly 1,00,000+ libraries for different use cases like django and flask for web development, numpy and panda for data science etc.\n",
        "      - **Easy to write and understand**: Python doesn't restrict for termination, It is an interpreted language which interprets line by line and understands itself where the statement has end. It supports indetation block which makes it look clean and optimised.\n",
        "      - **Cross Platform Compatibility**: Python can be executed on any platform like Windows, Macos, Linux.\n",
        "      - **Dynamically typed**: In python, we don't need to specify tha datatype before hand python variable takes input of any type of data despite of their nature.\n",
        "\n",
        "      a = 10\n",
        "      a = \"Hello world\"\n",
        "      - **Large community support**: Python has the largest community in the world for any programming language who are contributing to make it a better day by day."
      ],
      "metadata": {
        "id": "77MyJC5D4QV1"
      }
    },
    {
      "cell_type": "markdown",
      "source": [
        "2. Describe the role of predefined keywords in Python and provide examples of how they are used in a program.\n",
        "\n",
        "  -> In python there are reserved or predefined keywords which have their own specific functionalities in python. There words can't be used as idetifiers (to name our variable, class, function) in our code, when interprets reads particular keyword like print, for it performs the functionality according to how it was pre-defined\n",
        "\n",
        "  **Example**: \"for\" keyword in python, It is a reserved keyword for loop statement in python. When python interpreter reads this word in any line of code it understands here repeated operation has to be performed.\n",
        "\n",
        "\n",
        "> for i in \"Hello World\":\n",
        "\n",
        "> print(i)"
      ],
      "metadata": {
        "id": "aLDXV9KV7GDO"
      }
    },
    {
      "cell_type": "markdown",
      "source": [
        "3. Compare and contrast mutable and immutable objects in Python with examples.\n",
        "\n",
        "*   **Mutable objects**: Mutable objects are those objects which have the tendancy to change or its value can be replaced.\n",
        "```\n",
        "   list = [20, \"Hello World\", 30.5 ]\n",
        "   # List has been assigned different type of values including integer, string and float.\n",
        "   list[1] = \"Hey World\"\n",
        "   # At a particular index in list we are replacing its value which is possible as it is mutable\n",
        "   print(list)\n",
        "```\n",
        "*   **Immutable objects**: These are the objects which can't be changed or modifies once it is created.\n",
        "\n",
        "```\n",
        "    str = \"Hello World\"\n",
        "    str[2] = \"a\"\n",
        "    # Here we are trying to change an index in string which is not supported by python once it is created. That is why strings are immutable.\n",
        "```\n",
        "\n",
        "\n",
        "\n",
        "\n",
        "\n"
      ],
      "metadata": {
        "id": "IBycviHVJ7yG"
      }
    },
    {
      "cell_type": "markdown",
      "source": [
        "4. Discuss the different types of operators in Python and provide examples of how they are used.\n",
        "\n",
        "  -> When we need to manipulate the data we need to do certain operations and these operations are done with the help of operators. There are many different types of operators in python:\n",
        "\n",
        "\n",
        "*   **Arithmetic Operators**: These are the operators which is used to perform mathematical operations in our program.\n",
        "\n",
        "  Example: Addition, Multiplication, Subtraction, Division, Floor Division, Modulus, Exponent\n",
        "\n",
        "```\n",
        "    a = 20\n",
        "    b = 30\n",
        "    print(a+b)\n",
        "    # Here we are performing addition operation on two values stored in memory using operators\n",
        "```\n",
        "*   **Comparsion Operators**: It compares two values in python and return a boolean value (True or False).\n",
        "\n",
        "  Example: Greater than ( > ), Equals to ( == ), Less than ( < ), Not equals to ( != ) etc\n",
        "\n",
        "```\n",
        "    a = 2\n",
        "    b = 5\n",
        "    print( a > b)\n",
        "    # Here we are comparing two values using comparison operator which will print a value True or False based on condition\n",
        "```\n",
        "*   **Logical operator**: These are the operators which is used to combine or manipulate boolean expressions.\n",
        "\n",
        "  Example: AND, OR, NOT\n",
        "\n",
        "```\n",
        "    print( 2 > 5 AND 3 > 1 )\n",
        "    # Here logical operator will make sure that both the conditions return True or False value simultaneously\n",
        "```\n",
        "\n",
        "*   **Assignment Operator**: This operator is used to assign a value to a variable.\n",
        "\n",
        "```\n",
        "    a = 5\n",
        "    # Here variable 'a' gets the value of 5\n",
        "```"
      ],
      "metadata": {
        "id": "2s1BMLWCP1PV"
      }
    },
    {
      "cell_type": "markdown",
      "source": [
        "5. Explain the concept of type casting in Python with examples.\n",
        "\n",
        "  -> **Typecasting** is a method to change datatype from one to another. As there are many types of values which can be assigned to a variable like integer, string, float, bool etc.\n",
        "\n",
        "  To check the type of variable we can use\n",
        "  > print(type(variable_name))\n",
        "\n",
        "  There are two types of type casting:\n",
        "\n",
        "*   **Implicit**: In implicit type casting python by default understands the type of value assigned to a variable.\n",
        "\n",
        "```\n",
        "    a = 10\n",
        "    print(type(a))\n",
        "    # This value will output the value int as python understood the nature of value during its assignment\n",
        "```\n",
        "*   **Explicit**: In explicit type casting we ourselves need to specify the type of variable to python.\n",
        "\n",
        "```\n",
        "    a = \"30\" # Assigning string value to variable a\n",
        "    a = int(a) # Converting the string value to integer then assigning it back to variable a\n",
        "```"
      ],
      "metadata": {
        "id": "M776QfFmYzw7"
      }
    },
    {
      "cell_type": "markdown",
      "source": [
        "6. How do conditional statements work in Python? Illustrate with examples.\n",
        "\n",
        "  -> **Conditional statements** are used to control execution of statement based on certain condition provided. For each conditional statement which gets executed it returns the value True or False value depending on the condition whether it is correct or incorrect respectively.\n",
        "\n",
        "```\n",
        "  a = 50\n",
        "  if a < 100:\n",
        "    print(\"Condition is true\")\n",
        "```\n",
        "  In the above code if the condition of if statement is correct python will enter the code block followed by the if statement and will try to execute the block of code. If not, It will skip the block of code followed by if statement.\n",
        "  "
      ],
      "metadata": {
        "id": "tghgfIOXcIXq"
      }
    },
    {
      "cell_type": "markdown",
      "source": [
        "7. Describe the different types of loops in Python and their use cases with examples.\n",
        "\n",
        "  -> **Loops** are the technique which is used to execute block of code repeatedly. The 2 main types of loops are:\n",
        "\n",
        "*   **For Loop**: In for loop user knows about the number of times loops have to be repeated, or to iterate from a set of items.\n",
        "\n",
        "```\n",
        "    list = [ 1, \"John\", 30, 45000 ]\n",
        "    # list contains employee id, name, age and salary\n",
        "    for i in list:\n",
        "      print(i)\n",
        "    # for loop is iterating through that particular list\n",
        "```\n",
        "\n",
        "\n",
        "*   **while loop**: In while loop a block of code is repeated until a certain condition is met.\n",
        "\n",
        "```\n",
        "    pswd = input(\"Enter your password: \")\n",
        "    while pswd == \"\":\n",
        "      print(\"Password field can't be empty...!!!\")\n",
        "      pswd = input(\"Enter your password: \")\n",
        "```\n",
        "\n"
      ],
      "metadata": {
        "id": "rOdWBFKJoaYU"
      }
    }
  ]
}